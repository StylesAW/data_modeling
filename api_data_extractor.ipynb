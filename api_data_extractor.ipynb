{
 "cells": [
  {
   "cell_type": "markdown",
   "id": "21677255-d6d7-45c3-9964-d7fc1807ed81",
   "metadata": {},
   "source": [
    "# **League of Legends API**\n",
    "\n",
    "Documentation can be found here https://developer.riotgames.com/apis\n"
   ]
  },
  {
   "cell_type": "code",
   "execution_count": null,
   "id": "3c274b5a-7259-493f-bbb0-062b9871e710",
   "metadata": {},
   "outputs": [],
   "source": [
    "import requests\n",
    "from time import sleep\n",
    "import pandas as pd\n",
    "from dotenv import load_dotenv\n",
    "import os\n",
    "load_dotenv()"
   ]
  },
  {
   "cell_type": "code",
   "execution_count": null,
   "id": "b5befd05-086e-45c2-a3ea-0f6da3c4a1df",
   "metadata": {},
   "outputs": [],
   "source": [
    "api_key = os.getenv(\"RIOT_API_KEY\")"
   ]
  },
  {
   "cell_type": "markdown",
   "id": "96c30319-09d0-42d9-869e-18d7a7f122cd",
   "metadata": {},
   "source": [
    "League of legends has different servers so we need to know where our summoner plays"
   ]
  },
  {
   "cell_type": "code",
   "execution_count": null,
   "id": "dcc89dae-ea7d-47e9-83a5-f7ea6ef62561",
   "metadata": {},
   "outputs": [],
   "source": [
    "servers = {\n",
    "    'br1' : 'br1',\n",
    "    'eun1' : 'eun1',\n",
    "    'euw1' : 'euw1',\n",
    "    'jp1' : 'jp1',\n",
    "    'kr' : 'kr',\n",
    "    'la1' : 'la1',\n",
    "    'la2' : 'la2',\n",
    "    'na1' : 'na1',\n",
    "}"
   ]
  },
  {
   "cell_type": "markdown",
   "id": "5018d7e2-f025-4521-ab8e-e681baf64f58",
   "metadata": {},
   "source": [
    "## **Find user by name**"
   ]
  },
  {
   "cell_type": "code",
   "execution_count": null,
   "id": "6e8f12ad-46cc-4c0c-8bf7-4f14759b3531",
   "metadata": {},
   "outputs": [
    {
     "name": "stdout",
     "output_type": "stream",
     "text": [
      "user found in br1\n",
      "user found in eun1\n",
      "user found in euw1\n",
      "user found in jp1\n"
     ]
    }
   ],
   "source": [
    "summoner_name = 'Styles'\n",
    "\n",
    "user_per_server = {}\n",
    "\n",
    "for server in servers:\n",
    "    endpoint = f'https://{server}.api.riotgames.com/lol/summoner/v4/summoners/by-name/{summoner_name}?api_key={api_key}'\n",
    "\n",
    "    res = requests.get(endpoint).json()\n",
    "    if res.get('status', None):\n",
    "        print(f'No user in {server}: {res}')\n",
    "    else:\n",
    "        print(f'user found in {server}')\n",
    "        user_per_server[server] = res\n",
    "    sleep(1)"
   ]
  },
  {
   "cell_type": "code",
   "execution_count": null,
   "id": "7e16e219-e906-4ebc-bab4-965443501176",
   "metadata": {},
   "outputs": [],
   "source": [
    "user_per_server"
   ]
  },
  {
   "cell_type": "markdown",
   "id": "718b7cf5-f40c-4c10-bde2-9581f46bc2a2",
   "metadata": {},
   "source": [
    "## **Find my ranking by id**"
   ]
  },
  {
   "cell_type": "code",
   "execution_count": 46,
   "id": "adad5579-c20d-4ecd-93a7-0c622b52a557",
   "metadata": {},
   "outputs": [],
   "source": [
    "server = 'la1'\n",
    "\n",
    "summ_id = user_per_server[server]['id']\n",
    "endpoint = f'https://{server}.api.riotgames.com/lol/league/v4/entries/by-summoner/{summ_id}?api_key={api_key}'\n",
    "\n",
    "res = requests.get(endpoint).json()"
   ]
  },
  {
   "cell_type": "code",
   "execution_count": 47,
   "id": "cd2b274e-e107-4645-ac2d-a04efb94bd5d",
   "metadata": {},
   "outputs": [
    {
     "data": {
      "text/plain": [
       "[{'leagueId': 'bb9feb00-cf13-40ca-b318-0a74573845b5',\n",
       "  'queueType': 'RANKED_SOLO_5x5',\n",
       "  'tier': 'DIAMOND',\n",
       "  'rank': 'IV',\n",
       "  'summonerId': '5QDTqVFS66ywwKzRVgBxnrZLFL3IbIMhndHAYWaGIgA3eEE',\n",
       "  'summonerName': 'Styles',\n",
       "  'leaguePoints': 27,\n",
       "  'wins': 60,\n",
       "  'losses': 45,\n",
       "  'veteran': False,\n",
       "  'inactive': False,\n",
       "  'freshBlood': True,\n",
       "  'hotStreak': False}]"
      ]
     },
     "execution_count": 47,
     "metadata": {},
     "output_type": "execute_result"
    }
   ],
   "source": [
    "res"
   ]
  },
  {
   "cell_type": "markdown",
   "id": "4dd5c160-98a8-4aa3-aba8-de7d99255763",
   "metadata": {
    "jp-MarkdownHeadingCollapsed": true
   },
   "source": [
    "## **Champion Mastery**"
   ]
  },
  {
   "cell_type": "code",
   "execution_count": 44,
   "id": "e506307d-ad78-462f-bc55-5575e6c04856",
   "metadata": {},
   "outputs": [],
   "source": [
    "summ_puuid = user_per_server[server]['puuid']\n",
    "endpoint = f'https://{server}.api.riotgames.com/lol/champion-mastery/v4/champion-masteries/by-puuid/{summ_puuid}/top?api_key={api_key}'\n",
    "res = requests.get(endpoint).json()\n",
    "champ_mastery_summ = res\n"
   ]
  },
  {
   "cell_type": "code",
   "execution_count": 45,
   "id": "6fd5d5e0-32a8-4596-906e-9734dbfacb7e",
   "metadata": {},
   "outputs": [
    {
     "data": {
      "text/plain": [
       "[{'puuid': 'zRSETMrkt5cmiwxk_6Q14WQgF5w9E0gDA4jCYDXwfcCd014WtnaOI18dtoulUiyO-eWKZSIgQtqcMg',\n",
       "  'championId': 245,\n",
       "  'championLevel': 7,\n",
       "  'championPoints': 404598,\n",
       "  'lastPlayTime': 1694360659000,\n",
       "  'championPointsSinceLastLevel': 382998,\n",
       "  'championPointsUntilNextLevel': 0,\n",
       "  'chestGranted': False,\n",
       "  'tokensEarned': 0,\n",
       "  'summonerId': 'z3o6lqYCYmy0fK8C7SR5E93YkDuU2KcSjrq_ihbpuE56Y8pE'},\n",
       " {'puuid': 'zRSETMrkt5cmiwxk_6Q14WQgF5w9E0gDA4jCYDXwfcCd014WtnaOI18dtoulUiyO-eWKZSIgQtqcMg',\n",
       "  'championId': 55,\n",
       "  'championLevel': 7,\n",
       "  'championPoints': 277460,\n",
       "  'lastPlayTime': 1707271572000,\n",
       "  'championPointsSinceLastLevel': 255860,\n",
       "  'championPointsUntilNextLevel': 0,\n",
       "  'chestGranted': False,\n",
       "  'tokensEarned': 0,\n",
       "  'summonerId': 'z3o6lqYCYmy0fK8C7SR5E93YkDuU2KcSjrq_ihbpuE56Y8pE'},\n",
       " {'puuid': 'zRSETMrkt5cmiwxk_6Q14WQgF5w9E0gDA4jCYDXwfcCd014WtnaOI18dtoulUiyO-eWKZSIgQtqcMg',\n",
       "  'championId': 141,\n",
       "  'championLevel': 7,\n",
       "  'championPoints': 259593,\n",
       "  'lastPlayTime': 1705030903000,\n",
       "  'championPointsSinceLastLevel': 237993,\n",
       "  'championPointsUntilNextLevel': 0,\n",
       "  'chestGranted': False,\n",
       "  'tokensEarned': 0,\n",
       "  'summonerId': 'z3o6lqYCYmy0fK8C7SR5E93YkDuU2KcSjrq_ihbpuE56Y8pE'}]"
      ]
     },
     "execution_count": 45,
     "metadata": {},
     "output_type": "execute_result"
    }
   ],
   "source": [
    "res"
   ]
  },
  {
   "cell_type": "markdown",
   "id": "59dc9169-23aa-431c-a1e4-70486cb6a2b9",
   "metadata": {
    "jp-MarkdownHeadingCollapsed": true
   },
   "source": [
    "## **Top 1 Champion Mastery**"
   ]
  },
  {
   "cell_type": "code",
   "execution_count": 40,
   "id": "6e2ee051-1a3c-4b6e-9b94-ac00abe24427",
   "metadata": {},
   "outputs": [
    {
     "name": "stdout",
     "output_type": "stream",
     "text": [
      "{'puuid': 'zRSETMrkt5cmiwxk_6Q14WQgF5w9E0gDA4jCYDXwfcCd014WtnaOI18dtoulUiyO-eWKZSIgQtqcMg', 'championId': 245, 'championLevel': 7, 'championPoints': 404598, 'lastPlayTime': 1694360659000, 'championPointsSinceLastLevel': 382998, 'championPointsUntilNextLevel': 0, 'chestGranted': False, 'tokensEarned': 0, 'summonerId': 'z3o6lqYCYmy0fK8C7SR5E93YkDuU2KcSjrq_ihbpuE56Y8pE'}\n"
     ]
    }
   ],
   "source": [
    "champ_id = champ_mastery_summ[0]['championId']\n",
    "endpoint = f'https://{server}.api.riotgames.com/lol/#?api_key={api_key}'\n",
    "res = requests.get(endpoint).json()\n",
    "print(res)"
   ]
  },
  {
   "cell_type": "code",
   "execution_count": null,
   "id": "8449019a-2afa-4062-812c-f628798f8b22",
   "metadata": {},
   "outputs": [],
   "source": []
  }
 ],
 "metadata": {
  "kernelspec": {
   "display_name": "Python 3 (ipykernel)",
   "language": "python",
   "name": "python3"
  },
  "language_info": {
   "codemirror_mode": {
    "name": "ipython",
    "version": 3
   },
   "file_extension": ".py",
   "mimetype": "text/x-python",
   "name": "python",
   "nbconvert_exporter": "python",
   "pygments_lexer": "ipython3",
   "version": "3.11.5"
  }
 },
 "nbformat": 4,
 "nbformat_minor": 5
}
